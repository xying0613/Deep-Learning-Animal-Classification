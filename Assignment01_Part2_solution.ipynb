{
 "cells": [
  {
   "cell_type": "markdown",
   "id": "d396e663",
   "metadata": {},
   "source": [
    "# <span style=\"color:#0b486b\">  FIT3181: Deep Learning (2021)</span>\n",
    "***\n",
    "*CE/Lecturer:* Dr **Trung Le** | trunglm@monash.edu <br/>\n",
    "*Head Tutor:* Mr **Thanh Nguyen** | thanh.nguyen4@monash.edu <br/>\n",
    "<br/>\n",
    "Department of Data Science and AI, Faculty of Information Technology, Monash University, Australia\n",
    "***"
   ]
  },
  {
   "cell_type": "markdown",
   "id": "0d82d892",
   "metadata": {},
   "source": [
    "# <span style=\"color:#0b486b\">  Student Information</span>\n",
    "***\n",
    "Surname: **Haw**  <br/>\n",
    "Firstname: **Xiao Ying**    <br/>\n",
    "Student ID: **29797918**    <br/>\n",
    "Email: **xhaw0001@student.monash.edu**    <br/>\n",
    "Your tutorial time: **Tuesday 3.00p.m.-5.00p.m.**    <br/>\n",
    "***"
   ]
  },
  {
   "cell_type": "markdown",
   "id": "7e870738",
   "metadata": {},
   "source": [
    "## <span style=\"color:#0b486b\">Part 2: Deep Neural Networks (DNN) </span>\n",
    "<div style=\"text-align: right\"><span style=\"color:red; font-weight:bold\">[Total marks for this part: 30 points]<span></div>\n",
    "\n",
    "The first part of this assignment is for you to demonstrate your basis knowledge in deep learning that you have acquired from the lectures and tutorials materials. Most of the contents in this assignment are drawn from **the tutorials covered from weeks 1 to 4**. Going through these materials before attempting this assignment is highly recommended."
   ]
  },
  {
   "cell_type": "markdown",
   "id": "7386dd14",
   "metadata": {},
   "source": [
    "In the first part of this assignment, you are going to work with the **FashionMNIST** dataset for *image recognition task*. It has the exact same format as MNIST (70,000 grayscale images of 28 × 28 pixels each, with 10 classes), but the images represent fashion items rather than handwritten digits, so each class is more diverse, and the problem is significantly more challenging than MNIST."
   ]
  },
  {
   "cell_type": "markdown",
   "id": "6f0f3cfd",
   "metadata": {},
   "source": [
    "####  <span style=\"color:red\">**Question 2.1**</span>. Load the Fashion MNIST using Keras datasets\n",
    "\n",
    "<div style=\"text-align: right\"> <span style=\"color:red\">[5 points]</span> </div>\n",
    "\n",
    "We first use keras incoporated in TensorFlow 2.x for loading the training and testing sets."
   ]
  },
  {
   "cell_type": "code",
   "execution_count": 1,
   "id": "a58ed438",
   "metadata": {},
   "outputs": [],
   "source": [
    "import tensorflow as tf\n",
    "from tensorflow import keras"
   ]
  },
  {
   "cell_type": "markdown",
   "id": "2f353f47",
   "metadata": {},
   "source": [
    "We first use keras datasets in TF 2.x to load Fashion MNIST dataset."
   ]
  },
  {
   "cell_type": "code",
   "execution_count": 2,
   "id": "ec97d80e",
   "metadata": {},
   "outputs": [],
   "source": [
    "fashion_mnist = keras.datasets.fashion_mnist\n",
    "(X_train_full_img, y_train_full), (X_test_img, y_test) = fashion_mnist.load_data()"
   ]
  },
  {
   "cell_type": "markdown",
   "id": "02ec8860",
   "metadata": {},
   "source": [
    "The shape of X_train_full_img is $(60000, 28, 28 )$ and that of X_test_img is $(10000, 28, 28)$. We next convert them to matrices of vectors and store in X_train_full and X_test."
   ]
  },
  {
   "cell_type": "code",
   "execution_count": 3,
   "id": "facb01a0",
   "metadata": {},
   "outputs": [
    {
     "name": "stdout",
     "output_type": "stream",
     "text": [
      "(60000, 784) (60000,)\n",
      "(10000, 784) (10000,)\n"
     ]
    }
   ],
   "source": [
    "num_train = X_train_full_img.shape[0]\n",
    "num_test = X_test_img.shape[0]\n",
    "X_train_full = X_train_full_img.reshape(num_train, 28*28) \n",
    "X_test = X_test_img.reshape(num_test, 28*28)\n",
    "print(X_train_full.shape, y_train_full.shape)\n",
    "print(X_test.shape, y_test.shape)"
   ]
  },
  {
   "cell_type": "markdown",
   "id": "7a1ef928",
   "metadata": {},
   "source": [
    "####  <span style=\"color:red\">**Question 2.2**</span>. Preprocess the dataset and split into training, validation, and testing datasets\n",
    "\n",
    "<div style=\"text-align: right\"> <span style=\"color:red\">[5 points]</span> </div>\n",
    "\n",
    "You need to write the code to address the following requirements:\n",
    "- Print out the dimensions of X_train_full and X_test\n",
    "- Use $10 \\%$ of X_train_full for validation and the rest of X_train_full for training. This splits X_train_full and y_train_full into X_train, y_train ($90 \\%$) and X_valid, y_valid ($10 \\%$).\n",
    "- Finally, scale the piels of X_train, X_valid, and X_test to $[0,1]$) (i.e., $X = X/255.0$).\n",
    "\n",
    "You have now the separate training, validation, and testing sets for training your model.\n",
    "\n"
   ]
  },
  {
   "cell_type": "code",
   "execution_count": 4,
   "id": "abbf472a",
   "metadata": {},
   "outputs": [],
   "source": [
    "import math\n",
    "N = X_train_full.shape[0]\n",
    "i = math.floor(0.9*N)\n",
    "X_train, y_train = X_train_full[:i], y_train_full[:i]\n",
    "X_valid, y_valid = X_train_full[i:], y_train_full[i:]\n",
    "X_train, X_valid, X_test = X_train/255, X_valid/255, X_test/255"
   ]
  },
  {
   "cell_type": "markdown",
   "id": "c65774b4",
   "metadata": {},
   "source": [
    "####  <span style=\"color:red\">**Question 2.3**</span>. Visualize some images in the training set with labels\n",
    "\n",
    "<div style=\"text-align: right\"> <span style=\"color:red\">[5 points]</span> </div>\n",
    "\n",
    "You are required to write the code to show the first $36$ images in X_train_full_img (which is an array of images) with labels as shown in the following figure. Note that the class names of Fashion MNIST are as follows \n",
    "- \"1:T-shirt/top\", \"2:Trouser\", \"3:Pullover\", \"4:Dress\", \"5:Coat\", \"6:Sandal\", \"7:Shirt\", \"8:Sneaker\", \"9:Bag\", \"10:Ankle boot\"\n",
    "\n",
    "<img src=\"Figures/Fashion_MNIST.png\" width=\"450\" align=\"center\"/>"
   ]
  },
  {
   "cell_type": "code",
   "execution_count": 5,
   "id": "5777051e",
   "metadata": {},
   "outputs": [],
   "source": [
    "import matplotlib.pyplot as plt\n",
    "%matplotlib inline"
   ]
  },
  {
   "cell_type": "code",
   "execution_count": 6,
   "id": "1c035cf3",
   "metadata": {},
   "outputs": [
    {
     "data": {
      "image/png": "[encoded data removed]",
      "text/plain": [
       "<Figure size 792x792 with 36 Axes>"
      ]
     },
     "metadata": {},
     "output_type": "display_data"
    }
   ],
   "source": [
    "class_names = [\"1:T-shirt/top\", \"2:Trouser\", \"3:Pullover\", \"4:Dress\", \"5:Coat\", \n",
    "               \"6:Sandal\", \"7:Shirt\", \"8:Sneaker\", \"9:Bag\", \"10:Ankle boot\"]\n",
    "\n",
    "plt.figure(figsize=(11, 11))\n",
    "\n",
    "for i in range(36):\n",
    "    plt.subplot(6, 6, i+1)\n",
    "    plt.imshow(X_train[i].reshape((28,28)), cmap='Greys')\n",
    "    label = int(y_train[i])\n",
    "    plt.xlabel(class_names[label])\n",
    "    plt.xticks([])\n",
    "    plt.yticks([])\n",
    "    \n",
    "plt.show()"
   ]
  },
  {
   "cell_type": "markdown",
   "id": "1a7ad08c",
   "metadata": {},
   "source": [
    "####  <span style=\"color:red\">**Question 2.4**</span>. Write code for the feed-forward neural net using TF 2.x\n",
    "\n",
    "<div style=\"text-align: right\"> <span style=\"color:red\">[5 points]</span> </div>"
   ]
  },
  {
   "cell_type": "markdown",
   "id": "80246a49",
   "metadata": {},
   "source": [
    "We now develop a feed-forward neural network with the architecture $784 \\rightarrow 20(ReLU) \\rightarrow 25(ReLU) \\rightarrow 10(softmax)$. You can choose your own way to implement your network and an optimizer of interest. You should train model in $20$ epochs and evaluate the trained model on the test set."
   ]
  },
  {
   "cell_type": "code",
   "execution_count": 7,
   "id": "010eece8",
   "metadata": {},
   "outputs": [
    {
     "name": "stdout",
     "output_type": "stream",
     "text": [
      "Model: \"sequential\"\n",
      "_________________________________________________________________\n",
      "Layer (type)                 Output Shape              Param #   \n",
      "=================================================================\n",
      "dense (Dense)                (None, 20)                15700     \n",
      "_________________________________________________________________\n",
      "dense_1 (Dense)              (None, 25)                525       \n",
      "_________________________________________________________________\n",
      "dense_2 (Dense)              (None, 10)                260       \n",
      "=================================================================\n",
      "Total params: 16,485\n",
      "Trainable params: 16,485\n",
      "Non-trainable params: 0\n",
      "_________________________________________________________________\n"
     ]
    }
   ],
   "source": [
    "from tensorflow.keras.models import Sequential\n",
    "from tensorflow.keras.layers import Dense, Flatten\n",
    "\n",
    "dnn_model = Sequential()\n",
    "dnn_model.add(Dense(units=20,  input_shape=(784,), activation='relu'))\n",
    "dnn_model.add(Dense(units=25, activation='relu'))\n",
    "dnn_model.add(Dense(units=10, activation='softmax'))\n",
    "\n",
    "dnn_model.build()\n",
    "dnn_model.summary()"
   ]
  },
  {
   "cell_type": "code",
   "execution_count": 8,
   "id": "acecdacb",
   "metadata": {},
   "outputs": [],
   "source": [
    "dnn_model.compile(optimizer='adam', loss='sparse_categorical_crossentropy', metrics=['accuracy'])"
   ]
  },
  {
   "cell_type": "code",
   "execution_count": 9,
   "id": "b8fe2c53",
   "metadata": {},
   "outputs": [
    {
     "name": "stdout",
     "output_type": "stream",
     "text": [
      "Epoch 1/20\n",
      "1688/1688 [==============================] - 8s 4ms/step - loss: 0.5966 - accuracy: 0.7905 - val_loss: 0.4513 - val_accuracy: 0.8402\n",
      "Epoch 2/20\n",
      "1688/1688 [==============================] - 5s 3ms/step - loss: 0.4364 - accuracy: 0.8466 - val_loss: 0.4400 - val_accuracy: 0.8418\n",
      "Epoch 3/20\n",
      "1688/1688 [==============================] - 5s 3ms/step - loss: 0.4063 - accuracy: 0.8573 - val_loss: 0.4231 - val_accuracy: 0.8477\n",
      "Epoch 4/20\n",
      "1688/1688 [==============================] - 6s 4ms/step - loss: 0.3836 - accuracy: 0.8639 - val_loss: 0.3865 - val_accuracy: 0.8620\n",
      "Epoch 5/20\n",
      "1688/1688 [==============================] - 6s 4ms/step - loss: 0.3698 - accuracy: 0.8658 - val_loss: 0.3883 - val_accuracy: 0.8643\n",
      "Epoch 6/20\n",
      "1688/1688 [==============================] - 6s 4ms/step - loss: 0.3588 - accuracy: 0.8704 - val_loss: 0.3864 - val_accuracy: 0.8587\n",
      "Epoch 7/20\n",
      "1688/1688 [==============================] - 6s 3ms/step - loss: 0.3487 - accuracy: 0.8748 - val_loss: 0.3860 - val_accuracy: 0.8592\n",
      "Epoch 8/20\n",
      "1688/1688 [==============================] - 6s 4ms/step - loss: 0.3403 - accuracy: 0.8755 - val_loss: 0.3868 - val_accuracy: 0.8510\n",
      "Epoch 9/20\n",
      "1688/1688 [==============================] - 5s 3ms/step - loss: 0.3328 - accuracy: 0.8788 - val_loss: 0.3806 - val_accuracy: 0.8650\n",
      "Epoch 10/20\n",
      "1688/1688 [==============================] - 1s 844us/step - loss: 0.3264 - accuracy: 0.8809 - val_loss: 0.3736 - val_accuracy: 0.8682\n",
      "Epoch 11/20\n",
      "1688/1688 [==============================] - 1s 835us/step - loss: 0.3223 - accuracy: 0.8829 - val_loss: 0.3912 - val_accuracy: 0.8602\n",
      "Epoch 12/20\n",
      "1688/1688 [==============================] - 1s 819us/step - loss: 0.3191 - accuracy: 0.8825 - val_loss: 0.3600 - val_accuracy: 0.8680\n",
      "Epoch 13/20\n",
      "1688/1688 [==============================] - 1s 803us/step - loss: 0.3124 - accuracy: 0.8859 - val_loss: 0.3623 - val_accuracy: 0.8715\n",
      "Epoch 14/20\n",
      "1688/1688 [==============================] - 1s 822us/step - loss: 0.3116 - accuracy: 0.8855 - val_loss: 0.3655 - val_accuracy: 0.8718\n",
      "Epoch 15/20\n",
      "1688/1688 [==============================] - 1s 815us/step - loss: 0.3065 - accuracy: 0.8881 - val_loss: 0.3688 - val_accuracy: 0.8653\n",
      "Epoch 16/20\n",
      "1688/1688 [==============================] - 1s 844us/step - loss: 0.3025 - accuracy: 0.8891 - val_loss: 0.3791 - val_accuracy: 0.8653\n",
      "Epoch 17/20\n",
      "1688/1688 [==============================] - 2s 894us/step - loss: 0.2994 - accuracy: 0.8890 - val_loss: 0.3671 - val_accuracy: 0.8730\n",
      "Epoch 18/20\n",
      "1688/1688 [==============================] - 1s 819us/step - loss: 0.2956 - accuracy: 0.8915 - val_loss: 0.3551 - val_accuracy: 0.8743\n",
      "Epoch 19/20\n",
      "1688/1688 [==============================] - 1s 835us/step - loss: 0.2928 - accuracy: 0.8926 - val_loss: 0.3788 - val_accuracy: 0.8657\n",
      "Epoch 20/20\n",
      "1688/1688 [==============================] - 2s 891us/step - loss: 0.2902 - accuracy: 0.8920 - val_loss: 0.3890 - val_accuracy: 0.8597\n"
     ]
    }
   ],
   "source": [
    "history = dnn_model.fit(x=X_train, y=y_train, epochs=20, validation_data=(X_valid, y_valid))"
   ]
  },
  {
   "cell_type": "code",
   "execution_count": 23,
   "id": "f39ddf5a",
   "metadata": {},
   "outputs": [
    {
     "name": "stdout",
     "output_type": "stream",
     "text": [
      "313/313 [==============================] - 0s 406us/step - loss: 0.4141 - accuracy: 0.8562\n",
      "The loss of this model is 0.4141 whereas accuracy is 0.8562\n"
     ]
    }
   ],
   "source": [
    "loss, acc = dnn_model.evaluate(X_test, y_test)  \n",
    "print(\"The loss of this model is {:.4f} whereas accuracy is {:.4f}\".format(loss, acc))"
   ]
  },
  {
   "cell_type": "markdown",
   "id": "73abd81f",
   "metadata": {},
   "source": [
    "####  <span style=\"color:red\">**Question 2.5**</span>. Tuning hyper-parameters with grid search\n",
    "<div style=\"text-align: right\"> <span style=\"color:red\">[5 points]</span> </div>\n",
    "\n",
    "Assume that you need to tune the number of neurons on the first hidden layer $n_1 \\in \\{10, 20, 30, 40\\}$ and the used activation function  $act \\in \\{sigmoid, tanh, relu\\}$. The network has the pattern $784 \\rightarrow n_1 (act) \\rightarrow 25(act) \\rightarrow 10(softmax)$ where $n_1$ and $act$ are in their grides. Write the code to tune the hyper-parameters $n_1$ and $act$. Note that you can freely choose the optimizer and learning rate of interest for this task."
   ]
  },
  {
   "cell_type": "code",
   "execution_count": 11,
   "id": "7070ebbb",
   "metadata": {},
   "outputs": [
    {
     "name": "stdout",
     "output_type": "stream",
     "text": [
      "Evaluating with 10 as the number of neurons on the first hidden layer and sigmoid as the activation function\n",
      "313/313 [==============================] - 0s 572us/step - loss: 0.5317 - accuracy: 0.8170\n",
      "The test accuracy is 0.8169999718666077\n",
      "\n",
      "Evaluating with 10 as the number of neurons on the first hidden layer and tanh as the activation function\n",
      "313/313 [==============================] - 0s 611us/step - loss: 0.5176 - accuracy: 0.8197\n",
      "The test accuracy is 0.8197000026702881\n",
      "\n",
      "Evaluating with 10 as the number of neurons on the first hidden layer and relu as the activation function\n",
      "313/313 [==============================] - 0s 499us/step - loss: 0.6689 - accuracy: 0.7653\n",
      "The test accuracy is 0.7652999758720398\n",
      "\n",
      "Evaluating with 20 as the number of neurons on the first hidden layer and sigmoid as the activation function\n",
      "313/313 [==============================] - 0s 537us/step - loss: 0.4479 - accuracy: 0.8451\n",
      "The test accuracy is 0.8450999855995178\n",
      "\n",
      "Evaluating with 20 as the number of neurons on the first hidden layer and tanh as the activation function\n",
      "313/313 [==============================] - 0s 508us/step - loss: 0.4685 - accuracy: 0.8385\n",
      "The test accuracy is 0.8385000228881836\n",
      "\n",
      "Evaluating with 20 as the number of neurons on the first hidden layer and relu as the activation function\n",
      "313/313 [==============================] - 0s 550us/step - loss: 0.4408 - accuracy: 0.8516\n",
      "The test accuracy is 0.8515999913215637\n",
      "\n",
      "Evaluating with 30 as the number of neurons on the first hidden layer and sigmoid as the activation function\n",
      "313/313 [==============================] - 0s 572us/step - loss: 0.4556 - accuracy: 0.8526\n",
      "The test accuracy is 0.8525999784469604\n",
      "\n",
      "Evaluating with 30 as the number of neurons on the first hidden layer and tanh as the activation function\n",
      "313/313 [==============================] - 0s 540us/step - loss: 0.4415 - accuracy: 0.8565\n",
      "The test accuracy is 0.8565000295639038\n",
      "\n",
      "Evaluating with 30 as the number of neurons on the first hidden layer and relu as the activation function\n",
      "313/313 [==============================] - 0s 563us/step - loss: 0.4536 - accuracy: 0.8480\n",
      "The test accuracy is 0.8479999899864197\n",
      "\n",
      "Evaluating with 40 as the number of neurons on the first hidden layer and sigmoid as the activation function\n",
      "313/313 [==============================] - 0s 585us/step - loss: 0.4398 - accuracy: 0.8557\n",
      "The test accuracy is 0.8557000160217285\n",
      "\n",
      "Evaluating with 40 as the number of neurons on the first hidden layer and tanh as the activation function\n",
      "313/313 [==============================] - 0s 521us/step - loss: 0.4257 - accuracy: 0.8568\n",
      "The test accuracy is 0.8568000197410583\n",
      "\n",
      "Evaluating with 40 as the number of neurons on the first hidden layer and relu as the activation function\n",
      "313/313 [==============================] - 0s 607us/step - loss: 0.4309 - accuracy: 0.8639\n",
      "The test accuracy is 0.8639000058174133\n",
      "\n",
      "The best accuracy is 0.8639000058174133 with 40 as the number of neurons on the first hidden layer and relu as the activation function\n"
     ]
    }
   ],
   "source": [
    "from tensorflow.keras.models import Sequential\n",
    "from tensorflow.keras.layers import Dense, Flatten\n",
    "\n",
    "act = ['sigmoid', 'tanh', 'relu']\n",
    "n1 = [10, 20, 30, 40]\n",
    "opt = keras.optimizers.Adam(learning_rate=0.005)\n",
    "best_acc = 0\n",
    "best_i = []\n",
    "\n",
    "for n in n1:\n",
    "    for activation in act:\n",
    "        print(\"Evaluating with {} as the number of neurons on the first hidden layer and {} as the activation function\".format(str(n), activation))\n",
    "        model = Sequential()\n",
    "        model.add(Dense(units=n,  input_shape=(784,), activation='relu'))\n",
    "        model.add(Dense(units=25, activation='relu'))\n",
    "        model.add(Dense(units=10, activation='softmax'))\n",
    "        model.build()    \n",
    "        model.compile(optimizer=opt, loss='sparse_categorical_crossentropy', metrics=['accuracy'])\n",
    "        model.fit(x=X_train, y=y_train, batch_size=32, epochs=30, validation_data=(X_valid, y_valid), verbose=0)\n",
    "        acc = model.evaluate(X_test, y_test)[1]\n",
    "        print(\"The test accuracy is {}\\n\".format(acc))\n",
    "        if acc > best_acc:\n",
    "            best_acc = acc\n",
    "            best_i = [n, activation]\n",
    "            \n",
    "print(\"The best accuracy is {} with {} as the number of neurons on the first hidden layer and {} as the activation function\".format(best_acc, best_i[0], best_i[1]))"
   ]
  },
  {
   "cell_type": "markdown",
   "id": "8c66b606",
   "metadata": {},
   "source": [
    "####  <span style=\"color:red\">**Question 2.6**</span>. Experimenting with temperature-based softmax\n",
    "<div style=\"text-align: right\"> <span style=\"color:red\">[5 points]</span> </div>\n",
    "\n",
    "Given a temperature parameter $\\tau>0$, we define a temperature-based $\\tau-softmax$ as follows\n",
    "- Given $h=[h_m]_{m=1}^M$, $p = \\tau-softmax(h)$ if $p = [p_m]_{m=1}^M$ with $p_{m}=\\frac{exp\\left(\\frac{h_{m}}{\\tau}\\right)}{\\sum_{i=1}^{M}exp\\left(\\frac{h_{i}}{\\tau}\\right)}$ for $m \\in \\{1,2,...,M\\}$.\n",
    "\n",
    "Implement a feed-foward neural network with the architecture $784 \\rightarrow 20(ReLU) \\rightarrow 25(ReLU) \\rightarrow 10(\\tau-softmax)$ for which we apply $\\tau-softmax$ to logits to transform it to predection probabilities. Set $\\tau \\in \\{0.1, 0.5, 0.8\\}$ respectively and train the above network with those temperature parameters."
   ]
  },
  {
   "cell_type": "code",
   "execution_count": 21,
   "id": "7d7e1af2",
   "metadata": {},
   "outputs": [
    {
     "name": "stdout",
     "output_type": "stream",
     "text": [
      "Evaluating with 0.1 as temperature parameter ...\n",
      "313/313 [==============================] - 0s 483us/step - loss: 0.4115 - accuracy: 0.8581\n",
      "The test accuracy is 0.8580999970436096 and loss is 0.41154566407203674\n",
      "\n",
      "Evaluating with 0.5 as temperature parameter ...\n",
      "313/313 [==============================] - 0s 524us/step - loss: 0.3976 - accuracy: 0.8630\n",
      "The test accuracy is 0.8629999756813049 and loss is 0.3975677192211151\n",
      "\n",
      "Evaluating with 0.8 as temperature parameter ...\n",
      "313/313 [==============================] - 0s 502us/step - loss: 0.3913 - accuracy: 0.8694\n",
      "The test accuracy is 0.8694000244140625 and loss is 0.39133986830711365\n",
      "\n",
      "The best temperature parameter among [0.1, 0.5, 0.8] is 0.8 with accuracy of 0.8694.\n"
     ]
    }
   ],
   "source": [
    "from tensorflow.keras.models import Sequential\n",
    "from tensorflow.keras.layers import Dense, Flatten\n",
    "from tensorflow.keras import backend as K\n",
    "import numpy as np\n",
    "\n",
    "temperatures = [0.1, 0.5, 0.8]\n",
    "best_acc = -1\n",
    "best_t = -1\n",
    "\n",
    "for t in temperatures:\n",
    "    \n",
    "    print(\"Evaluating with {} as temperature parameter ...\".format(t))\n",
    "    \n",
    "    def temperature_softmax(x, temp=t):\n",
    "        n = K.softmax(x)\n",
    "        h = K.log(n) / temp\n",
    "        a = K.exp(h) / K.sum(K.exp(h))\n",
    "        return a\n",
    "\n",
    "    temp_model = Sequential()\n",
    "    temp_model.add(Dense(units=20,  input_shape=(784,), activation='relu'))\n",
    "    temp_model.add(Dense(units=25, activation='relu'))\n",
    "    temp_model.add(Dense(units=10, activation=temperature_softmax))\n",
    "    temp_model.build()\n",
    "    temp_model.compile(optimizer='adam', loss='sparse_categorical_crossentropy', metrics=['accuracy'])\n",
    "    temp_model.fit(x=X_train, y=y_train, epochs=20, validation_data=(X_valid, y_valid), verbose=0)\n",
    "    loss, acc = temp_model.evaluate(X_test, y_test)\n",
    "    print(\"The test accuracy is {} and loss is {}\\n\".format(acc, loss))\n",
    "    if acc > best_acc:\n",
    "        best_acc = acc\n",
    "        best_t = t\n",
    "\n",
    "print(\"The best temperature parameter among [0.1, 0.5, 0.8] is {} with accuracy of {:.4f}.\".format(t, acc))"
   ]
  }
 ],
 "metadata": {
  "kernelspec": {
   "display_name": "Python 3",
   "language": "python",
   "name": "python3"
  },
  "language_info": {
   "codemirror_mode": {
    "name": "ipython",
    "version": 3
   },
   "file_extension": ".py",
   "mimetype": "text/x-python",
   "name": "python",
   "nbconvert_exporter": "python",
   "pygments_lexer": "ipython3",
   "version": "3.8.3"
  }
 },
 "nbformat": 4,
 "nbformat_minor": 5
}
